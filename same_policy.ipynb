{
 "cells": [
  {
   "cell_type": "code",
   "execution_count": 1,
   "metadata": {},
   "outputs": [
    {
     "name": "stdout",
     "output_type": "stream",
     "text": [
      "Policy: 3_6C-80PER_3_6C, Numbers: ['3', '6', '3', '6']\n",
      "Policy: 4C-80PER_4C, Numbers: ['4', '4']\n",
      "Policy: 4_4C-80PER_4_4C, Numbers: ['4', '4', '4', '4']\n",
      "Policy: 4_8C-80PER_4_8C, Numbers: ['4', '8', '4', '8']\n",
      "Policy: 5_4C-40PER_3_6C, Numbers: ['5', '4', '3', '6']\n",
      "Policy: 5_4C-60PER_3_6C, Numbers: ['5', '4', '3', '6']\n",
      "Policy: 5_4C-80PER_5_4C, Numbers: ['5', '4', '5', '4']\n",
      "Policy: 6C-40PER_3C, Numbers: ['6', '3']\n",
      "Policy: 6C-50PER_3C, Numbers: ['6', '3']\n",
      "Policy: 6C-60PER_3C, Numbers: ['6', '3']\n",
      "Policy: 7C-40PER_3C, Numbers: ['7', '3']\n",
      "Policy: 1C_4PER_6C, Numbers: ['1', '6']\n",
      "Policy: 2C_10PER_6C, Numbers: ['2', '6']\n",
      "Policy: 2C_2PER_5C, Numbers: ['2', '5']\n",
      "Policy: 3_6C_22PER_5_5C, Numbers: ['3', '6', '5', '5']\n",
      "Policy: 3_6C_2PER_4_85C, Numbers: ['3', '6', '4', '85']\n",
      "Policy: 4C_13PER_5C, Numbers: ['4', '5']\n",
      "Policy: 4C_31PER_5, Numbers: ['4', '5']\n",
      "Policy: 4C_40PER_6C, Numbers: ['4', '6']\n",
      "Policy: 4_4C_47PER_5_5C, Numbers: ['4', '4', '5', '5']\n",
      "Policy: 4_4C_8PER_4_85C, Numbers: ['4', '4', '4', '85']\n",
      "Policy: 4_65C_19PER_4_85C, Numbers: ['4', '65', '4', '85']\n",
      "Policy: 4_8C_80PER_4_8C, Numbers: ['4', '8', '4', '8']\n",
      "Policy: 4_9C_27PER_4_75C, Numbers: ['4', '9', '4', '75']\n",
      "Policy: 4_9C_61PER_4_5C, Numbers: ['4', '9', '4', '5']\n",
      "Policy: 4_9C_69PER_4_25C, Numbers: ['4', '9', '4', '25']\n",
      "Policy: 5_2C_10PER_4_75C, Numbers: ['5', '2', '4', '75']\n",
      "Policy: 5_2C_37PER_4_5C, Numbers: ['5', '2', '4', '5']\n",
      "Policy: 5_2C_50PER_4_25C, Numbers: ['5', '2', '4', '25']\n",
      "Policy: 5_2C_66PER_3_5C, Numbers: ['5', '2', '3', '5']\n",
      "Policy: 5_6C_25PER_4_5C, Numbers: ['5', '6', '4', '5']\n",
      "Policy: 5_6C_38PER_4_25C, Numbers: ['5', '6', '4', '25']\n",
      "Policy: 5_6C_58PER_3_5C, Numbers: ['5', '6', '3', '5']\n",
      "Policy: 5_6C_5PER_4_75C, Numbers: ['5', '6', '4', '75']\n",
      "Policy: 6C_40PER_4C, Numbers: ['6', '4']\n",
      "Policy: 6C_60PER_3C, Numbers: ['6', '3']\n",
      "Policy: 5C_67PER_4C_NEWSTRUCTURE, Numbers: ['5', '4']\n",
      "Policy: 5_6C_36PER_4_3C_NEWSTRUCTURE, Numbers: ['5', '6', '4', '3']\n",
      "Policy: 5_6C_19PER_4_6C_NEWSTRUCTURE, Numbers: ['5', '6', '4', '6']\n",
      "Policy: 3_7C_31PER_5_9C_NEWSTRUCTURE, Numbers: ['3', '7', '5', '9']\n",
      "Policy: 4_8C_80PER_4_8C_NEWSTRUCTURE, Numbers: ['4', '8', '4', '8']\n",
      "Policy: 5_9C_15PER_4_6C_NEWSTRUCTURE, Numbers: ['5', '9', '4', '6']\n",
      "Policy: 5_9C_60PER_3_1C_NEWSTRUCTURE, Numbers: ['5', '9', '3', '1']\n"
     ]
    }
   ],
   "source": [
    "import h5py\n",
    "import re  # Importation du module des expressions régulières\n",
    "\n",
    "# Charger le fichier .mat avec h5py\n",
    "file_path = r'C:\\Users\\pc\\Desktop\\data-driven-prediction-of-battery-cycle-life-before-capacity-degradation-master\\combined_batchdata.mat'\n",
    "mat = h5py.File(file_path, 'r')\n",
    "\n",
    "# Extraire le tableau 'batch_combined'\n",
    "batch_combined = mat['batch_combined']\n",
    "\n",
    "# Extraire les références des politiques\n",
    "policy_refs = batch_combined['policy']\n",
    "\n",
    "# Créer un dictionnaire pour stocker les politiques uniques et les chiffres extraits\n",
    "policy_dict = {}\n",
    "\n",
    "# L'expression régulière pour capturer les chiffres qui ne sont pas suivis immédiatement de deux chiffres et 'PER'\n",
    "pattern = r'(?<!\\d)\\d{1,2}(?!\\d*PER)'\n",
    "\n",
    "# Parcourir les références de politiques et accéder aux données réelles\n",
    "for ref in policy_refs:\n",
    "    # Accéder à l'objet référencé\n",
    "    policy_obj = mat[ref[0]]\n",
    "\n",
    "    # Extraire les données réelles de l'objet référencé\n",
    "    policy_data = policy_obj[()]\n",
    "    \n",
    "    # Convertir les valeurs numériques en caractères et les joindre pour former une chaîne\n",
    "    policy_str = ''.join(chr(item) for item in policy_data.flatten())\n",
    "\n",
    "    # Utiliser re.findall pour trouver toutes les occurrences correspondant au motif\n",
    "    numbers = re.findall(pattern, policy_str)\n",
    "    \n",
    "    # Ajouter la politique et les chiffres extraits au dictionnaire\n",
    "    policy_dict[policy_str] = numbers\n",
    "\n",
    "# Afficher les résultats\n",
    "for policy, numbers in policy_dict.items():\n",
    "    if len(numbers) % 2==0 :\n",
    "        print(f\"Policy: {policy}, Numbers: {numbers}\")\n"
   ]
  },
  {
   "cell_type": "code",
   "execution_count": 2,
   "metadata": {},
   "outputs": [
    {
     "name": "stdout",
     "output_type": "stream",
     "text": [
      "{'3_6C-80PER_3_6C': ['3', '6', '3', '6'], '4C-80PER_4C': ['4', '4'], '4_4C-80PER_4_4C': ['4', '4', '4', '4'], '4_8C-80PER_4_8C': ['4', '8', '4', '8'], '5_4C-40PER_3_6C': ['5', '4', '3', '6'], '5_4C-50PER_3C': ['5', '4', '3'], '5_4C-60PER_3C': ['5', '4', '3'], '5_4C-60PER_3_6C': ['5', '4', '3', '6'], '5_4C-70PER_3C': ['5', '4', '3'], '5_4C-80PER_5_4C': ['5', '4', '5', '4'], '6C-30PER_3_6C': ['6', '3', '6'], '6C-40PER_3C': ['6', '3'], '6C-40PER_3_6C': ['6', '3', '6'], '6C-50PER_3C': ['6', '3'], '6C-50PER_3_6C': ['6', '3', '6'], '6C-60PER_3C': ['6', '3'], '7C-30PER_3_6C': ['7', '3', '6'], '7C-40PER_3C': ['7', '3'], '7C-40PER_3_6C': ['7', '3', '6'], '8C-15PER_3_6C': ['8', '3', '6'], '8C-25PER_3_6C': ['8', '3', '6'], '8C-35PER_3_6C': ['8', '3', '6'], '1C_4PER_6C': ['1', '6'], '2C_10PER_6C': ['2', '6'], '2C_2PER_5C': ['2', '5'], '2C_7PER_5_5C': ['2', '5', '5'], '3_6C_22PER_5_5C': ['3', '6', '5', '5'], '3_6C_2PER_4_85C': ['3', '6', '4', '85'], '3_6C_30PER_6C': ['3', '6', '6'], '3_6C_9PER_5C': ['3', '6', '5'], '4C_13PER_5C': ['4', '5'], '4C_31PER_5': ['4', '5'], '4C_40PER_6C': ['4', '6'], '4C_4PER_4_85C': ['4', '4', '85'], '4_4C_24PER_5C': ['4', '4', '5'], '4_4C_47PER_5_5C': ['4', '4', '5', '5'], '4_4C_55PER_6C': ['4', '4', '6'], '4_4C_8PER_4_85C': ['4', '4', '4', '85'], '4_65C_19PER_4_85C': ['4', '65', '4', '85'], '4_65C_44PER_5C': ['4', '65', '5'], '4_65C_69PER_6C': ['4', '65', '6'], '4_8C_80PER_4_8C': ['4', '8', '4', '8'], '4_9C_27PER_4_75C': ['4', '9', '4', '75'], '4_9C_61PER_4_5C': ['4', '9', '4', '5'], '4_9C_69PER_4_25C': ['4', '9', '4', '25'], '5_2C_10PER_4_75C': ['5', '2', '4', '75'], '5_2C_37PER_4_5C': ['5', '2', '4', '5'], '5_2C_50PER_4_25C': ['5', '2', '4', '25'], '5_2C_58PER_4C': ['5', '2', '4'], '5_2C_66PER_3_5C': ['5', '2', '3', '5'], '5_2C_71PER_3C': ['5', '2', '3'], '5_6C_25PER_4_5C': ['5', '6', '4', '5'], '5_6C_38PER_4_25C': ['5', '6', '4', '25'], '5_6C_47PER_4C': ['5', '6', '4'], '5_6C_58PER_3_5C': ['5', '6', '3', '5'], '5_6C_5PER_4_75C': ['5', '6', '4', '75'], '5_6C_65PER_3C': ['5', '6', '3'], '6C_20PER_4_5C': ['6', '4', '5'], '6C_31PER_4_25C': ['6', '4', '25'], '6C_40PER_4C': ['6', '4'], '6C_4PER_4_75C': ['6', '4', '75'], '6C_52PER_3_5C': ['6', '3', '5'], '6C_60PER_3C': ['6', '3'], '5C_67PER_4C_NEWSTRUCTURE': ['5', '4'], '5_3C_54PER_4C_NEWSTRUCTURE': ['5', '3', '4'], '5_6C_36PER_4_3C_NEWSTRUCTURE': ['5', '6', '4', '3'], '5_6C_19PER_4_6C_NEWSTRUCTURE': ['5', '6', '4', '6'], '3_7C_31PER_5_9C_NEWSTRUCTURE': ['3', '7', '5', '9'], '4_8C_80PER_4_8C_NEWSTRUCTURE': ['4', '8', '4', '8'], '5_9C_15PER_4_6C_NEWSTRUCTURE': ['5', '9', '4', '6'], '5_9C_60PER_3_1C_NEWSTRUCTURE': ['5', '9', '3', '1']}\n"
     ]
    }
   ],
   "source": [
    "print(policy_dict)"
   ]
  }
 ],
 "metadata": {
  "kernelspec": {
   "display_name": "base",
   "language": "python",
   "name": "python3"
  },
  "language_info": {
   "codemirror_mode": {
    "name": "ipython",
    "version": 3
   },
   "file_extension": ".py",
   "mimetype": "text/x-python",
   "name": "python",
   "nbconvert_exporter": "python",
   "pygments_lexer": "ipython3",
   "version": "3.11.5"
  }
 },
 "nbformat": 4,
 "nbformat_minor": 2
}
