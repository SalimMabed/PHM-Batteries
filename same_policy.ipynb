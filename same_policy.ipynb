{
 "cells": [
  {
   "cell_type": "code",
   "execution_count": 2,
   "metadata": {},
   "outputs": [
    {
     "name": "stdout",
     "output_type": "stream",
     "text": [
      "Ligne: 1, Numbers: ['3', '6', '3', '6'], Policy: 3_6C-80PER_3_6C\n",
      "Ligne: 2, Numbers: ['3', '6', '3', '6'], Policy: 3_6C-80PER_3_6C\n",
      "Ligne: 3, Numbers: ['3', '6', '3', '6'], Policy: 3_6C-80PER_3_6C\n",
      "Ligne: 4, Numbers: ['4', '4'], Policy: 4C-80PER_4C\n",
      "Ligne: 5, Numbers: ['4', '4'], Policy: 4C-80PER_4C\n",
      "Ligne: 6, Numbers: ['4', '4', '4', '4'], Policy: 4_4C-80PER_4_4C\n",
      "Ligne: 7, Numbers: ['4', '8', '4', '8'], Policy: 4_8C-80PER_4_8C\n",
      "Ligne: 8, Numbers: ['4', '8', '4', '8'], Policy: 4_8C-80PER_4_8C\n",
      "Ligne: 17, Numbers: ['5', '4', '5', '4'], Policy: 5_4C-80PER_5_4C\n",
      "Ligne: 18, Numbers: ['5', '4', '5', '4'], Policy: 5_4C-80PER_5_4C\n",
      "Ligne: 61, Numbers: ['4', '8', '4', '8'], Policy: 4_8C_80PER_4_8C\n",
      "Ligne: 62, Numbers: ['4', '8', '4', '8'], Policy: 4_8C_80PER_4_8C\n",
      "Ligne: 63, Numbers: ['4', '8', '4', '8'], Policy: 4_8C_80PER_4_8C\n",
      "Ligne: 91, Numbers: ['4', '8', '4', '8'], Policy: 4_8C_80PER_4_8C_NEWSTRUCTURE\n",
      "Ligne: 94, Numbers: ['4', '8', '4', '8'], Policy: 4_8C_80PER_4_8C_NEWSTRUCTURE\n",
      "Ligne: 100, Numbers: ['4', '8', '4', '8'], Policy: 4_8C_80PER_4_8C_NEWSTRUCTURE\n",
      "Ligne: 124, Numbers: ['4', '8', '4', '8'], Policy: 4_8C_80PER_4_8C_NEWSTRUCTURE\n"
     ]
    }
   ],
   "source": [
    "import h5py\n",
    "import re\n",
    "cpt=0\n",
    "# Charger le fichier .mat avec h5py\n",
    "file_path = r'C:\\Users\\pc\\Desktop\\data-driven-prediction-of-battery-cycle-life-before-capacity-degradation-master\\combined_batchdata.mat'\n",
    "mat = h5py.File(file_path, 'r')\n",
    "\n",
    "# Extraire le tableau 'batch_combined'\n",
    "batch_combined = mat['batch_combined']\n",
    "\n",
    "# Extraire les références des politiques\n",
    "policy_refs = batch_combined['policy']\n",
    "\n",
    "# Créer un dictionnaire pour stocker les politiques uniques, les chiffres extraits et le numéro de ligne\n",
    "policy_dict = {}\n",
    "\n",
    "# L'expression régulière pour capturer les chiffres qui ne sont pas suivis immédiatement de deux chiffres et 'PER'\n",
    "pattern = r'(?<!\\d)\\d{1,2}(?!\\d*PER)'\n",
    "\n",
    "ligne = 0  # Initialisation du compteur de lignes\n",
    "\n",
    "# Parcourir les références de politiques et accéder aux données réelles\n",
    "for ref in policy_refs:\n",
    "    ligne += 1  # Incrémenter le compteur de lignes\n",
    "    \n",
    "    # Accéder à l'objet référencé pour la politique\n",
    "    policy_obj = mat[ref[0]]\n",
    "\n",
    "    # Extraire les données réelles de l'objet référencé\n",
    "    policy_data = policy_obj[()]\n",
    "    \n",
    "    # Convertir les valeurs numériques en caractères et les joindre pour former une chaîne\n",
    "    policy_str = ''.join(chr(item) for item in policy_data.flatten())\n",
    "\n",
    "    # Utiliser re.findall pour trouver toutes les occurrences correspondant au motif\n",
    "    numbers = re.findall(pattern, policy_str)\n",
    "    \n",
    "    # Ajouter la politique, les chiffres extraits et le numéro de ligne au dictionnaire\n",
    "    s=len(numbers)//2\n",
    "    if len(numbers) % 2 == 0:\n",
    "        if (numbers[s:]==numbers[:s]):\n",
    "            cpt+=1\n",
    "            policy_dict[ligne] = {\n",
    "                'numbers': numbers,\n",
    "                'policy_str': policy_str,\n",
    "            }\n",
    "\n",
    "# Afficher les résultats\n",
    "for ligne, data in policy_dict.items():\n",
    "    print(f\"Ligne: {ligne}, Numbers: {data['numbers']}, Policy: {data['policy_str']}\")\n"
   ]
  },
  {
   "cell_type": "code",
   "execution_count": 3,
   "metadata": {},
   "outputs": [
    {
     "name": "stdout",
     "output_type": "stream",
     "text": [
      "17\n"
     ]
    }
   ],
   "source": [
    "#print(policy_dict)\n",
    "print(cpt)"
   ]
  }
 ],
 "metadata": {
  "kernelspec": {
   "display_name": "base",
   "language": "python",
   "name": "python3"
  },
  "language_info": {
   "codemirror_mode": {
    "name": "ipython",
    "version": 3
   },
   "file_extension": ".py",
   "mimetype": "text/x-python",
   "name": "python",
   "nbconvert_exporter": "python",
   "pygments_lexer": "ipython3",
   "version": "3.11.5"
  }
 },
 "nbformat": 4,
 "nbformat_minor": 2
}
