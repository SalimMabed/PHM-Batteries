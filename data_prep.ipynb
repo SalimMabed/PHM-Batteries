{
 "cells": [
  {
   "cell_type": "code",
   "execution_count": 1,
   "metadata": {},
   "outputs": [],
   "source": [
    "import pandas as pd\n",
    "import os\n",
    "from sklearn.preprocessing import StandardScaler\n",
    "from sklearn.model_selection import train_test_split\n",
    "import matplotlib.pyplot as plt\n"
   ]
  },
  {
   "cell_type": "code",
   "execution_count": 2,
   "metadata": {},
   "outputs": [],
   "source": [
    "# Chemin vers les données\n",
    "data_path = 'C:\\\\Users\\\\pc\\\\Desktop\\\\data'\n",
    "\n",
    "# Fonction pour charger un fichier CSV\n",
    "def load_csv(file_path):\n",
    "    return pd.read_csv(file_path)\n",
    "\n",
    "# Fonction pour prétraiter les données\n",
    "def preprocess_data(files):\n",
    "    features_list = []\n",
    "    target_list = []\n",
    "    \n",
    "    for file in files:\n",
    "        data = load_csv(file)\n",
    "        \n",
    "        # Supprimer les lignes avec des valeurs NaN\n",
    "        data = data.dropna()\n",
    "        \n",
    "        # Préparation des données\n",
    "        features = data[['Data_Point', 'Test_Time', 'Step_Time', 'Step_Index', 'Cycle_Index', \n",
    "                         'Current', 'Voltage', 'Charge_Capacity', 'Charge_Energy', 'Discharge_Energy', \n",
    "                         'dV/dt', 'Internal_Resistance', 'Temperature']]\n",
    "        target = data['Discharge_Capacity']\n",
    "        \n",
    "        features_list.append(features)\n",
    "        target_list.append(target)\n",
    "    \n",
    "    # Concaténer toutes les données\n",
    "    features = pd.concat(features_list, ignore_index=True)\n",
    "    target = pd.concat(target_list, ignore_index=True)\n",
    "    \n",
    "    return features, target\n"
   ]
  },
  {
   "cell_type": "code",
   "execution_count": 3,
   "metadata": {},
   "outputs": [],
   "source": [
    "# Obtenir la liste des fichiers CSV dans les trois batchs\n",
    "batch1_files = [os.path.join(data_path, 'batch 1', f) for f in os.listdir(os.path.join(data_path, 'batch 1')) if f.endswith('.csv')]\n",
    "batch2_files = [os.path.join(data_path, 'batch 2', f) for f in os.listdir(os.path.join(data_path, 'batch 2')) if f.endswith('.csv')]\n",
    "batch3_files = [os.path.join(data_path, 'batch 3', f) for f in os.listdir(os.path.join(data_path, 'batch 3')) if f.endswith('.csv')]\n",
    "\n",
    "# Diviser les fichiers en ensembles d'entraînement et de test\n",
    "train_files = batch1_files[:8] + batch2_files[:3] + batch3_files[:3]\n",
    "test_files = batch1_files[8:] + batch2_files[3:] + batch3_files[3:]\n",
    "\n",
    "# Prétraiter les fichiers d'entraînement\n",
    "train_features, train_target = preprocess_data(train_files)\n",
    "\n",
    "# Prétraiter les fichiers de test\n",
    "test_features, test_target = preprocess_data(test_files)\n"
   ]
  },
  {
   "cell_type": "code",
   "execution_count": 4,
   "metadata": {},
   "outputs": [
    {
     "name": "stdout",
     "output_type": "stream",
     "text": [
      "Train features shape: (15243941, 13)\n",
      "Validation features shape: (3810986, 13)\n",
      "Test features shape: (2123914, 13)\n"
     ]
    }
   ],
   "source": [
    "# Normaliser les données\n",
    "scaler = StandardScaler()\n",
    "train_features = scaler.fit_transform(train_features)\n",
    "test_features = scaler.transform(test_features)\n",
    "\n",
    "# Diviser les données d'entraînement en ensembles d'entraînement et de validation\n",
    "X_train, X_val, y_train, y_val = train_test_split(train_features, train_target, test_size=0.2, random_state=42)\n",
    "\n",
    "# Afficher les statistiques de base\n",
    "print(\"Train features shape:\", X_train.shape)\n",
    "print(\"Validation features shape:\", X_val.shape)\n",
    "print(\"Test features shape:\", test_features.shape)\n"
   ]
  }
 ],
 "metadata": {
  "kernelspec": {
   "display_name": "base",
   "language": "python",
   "name": "python3"
  },
  "language_info": {
   "codemirror_mode": {
    "name": "ipython",
    "version": 3
   },
   "file_extension": ".py",
   "mimetype": "text/x-python",
   "name": "python",
   "nbconvert_exporter": "python",
   "pygments_lexer": "ipython3",
   "version": "3.11.5"
  }
 },
 "nbformat": 4,
 "nbformat_minor": 2
}
