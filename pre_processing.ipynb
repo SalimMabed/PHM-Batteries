{
 "cells": [
  {
   "cell_type": "code",
   "execution_count": null,
   "metadata": {},
   "outputs": [],
   "source": [
    "import os\n",
    "import pandas as pd\n",
    "\n",
    "# Chemin vers le répertoire contenant les fichiers CSV\n",
    "directory = r'C:\\\\Users\\\\pc\\\\Desktop\\\\data\\\\all batchs'\n",
    "\n",
    "# Lister tous les fichiers CSV dans le répertoire\n",
    "csv_files = [f for f in os.listdir(directory) if f.endswith('.csv')]"
   ]
  }
 ],
 "metadata": {
  "language_info": {
   "name": "python"
  }
 },
 "nbformat": 4,
 "nbformat_minor": 2
}
