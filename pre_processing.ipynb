{
 "cells": [
  {
   "cell_type": "code",
   "execution_count": 1,
   "metadata": {},
   "outputs": [],
   "source": [
    "import os\n",
    "import pandas as pd\n",
    "\n",
    "# Chemin vers le répertoire contenant les fichiers CSV\n",
    "directory = r'C:\\\\Users\\\\pc\\\\Desktop\\\\data\\\\all batchs'\n",
    "\n",
    "# Lister tous les fichiers CSV dans le répertoire\n",
    "csv_files = [f for f in os.listdir(directory) if f.endswith('.csv')]"
   ]
  },
  {
   "cell_type": "code",
   "execution_count": 9,
   "metadata": {},
   "outputs": [
    {
     "name": "stdout",
     "output_type": "stream",
     "text": [
      "Le fichier '2017-05-12_3_6C-80per_3_6C_CH1.csv' a une colonne 'Cycle_Index' qui s'incrémente correctement.\n",
      "Le fichier '2017-05-12_3_6C-80per_3_6C_CH2.csv' a une colonne 'Cycle_Index' qui s'incrémente correctement.\n",
      "Le fichier '2017-05-12_3_6C-80per_3_6C_CH3.csv' a une colonne 'Cycle_Index' qui s'incrémente correctement.\n",
      "Le fichier '2017-05-12_4C-80per_4C_CH5.csv' a une colonne 'Cycle_Index' qui s'incrémente correctement.\n",
      "Le fichier '2017-05-12_4C-80per_4C_CH6.csv' a une colonne 'Cycle_Index' qui s'incrémente correctement.\n",
      "Le fichier '2017-05-12_4_4C-80per_4_4C_CH7.csv' a une colonne 'Cycle_Index' qui s'incrémente correctement.\n",
      "Le fichier '2017-05-12_4_8C-80per_4_8C_CH10.csv' a une colonne 'Cycle_Index' qui s'incrémente correctement.\n",
      "Le fichier '2017-05-12_4_8C-80per_4_8C_CH9.csv' a une colonne 'Cycle_Index' qui s'incrémente correctement.\n",
      "Le fichier '2017-05-12_5_4C-80per_5_4C_CH11.csv' a une colonne 'Cycle_Index' qui s'incrémente correctement.\n",
      "Le fichier '2017-05-12_5_4C-80per_5_4C_CH12.csv' a une colonne 'Cycle_Index' qui s'incrémente correctement.\n",
      "Le fichier '2017-06-30_4_8C-80per_4_8C_CH4.csv' a une colonne 'Cycle_Index' qui s'incrémente correctement.\n",
      "Le fichier '2017-06-30_4_8C-80per_4_8C_CH7.csv' a une colonne 'Cycle_Index' qui s'incrémente correctement.\n",
      "Le fichier '2017-06-30_4_8C-80per_4_8C_CH8.csv' a une colonne 'Cycle_Index' qui s'incrémente correctement.\n",
      "Le fichier '2018-04-12_4_8C_80per_4_8C_newstructure_CH1.csv' a une colonne 'Cycle_Index' qui s'incrémente correctement.\n",
      "Le fichier '2018-04-12_4_8C_80per_4_8C_newstructure_CH17.csv' a une colonne 'Cycle_Index' qui s'incrémente correctement.\n",
      "Le fichier '2018-04-12_4_8C_80per_4_8C_newstructure_CH25.csv' a une colonne 'Cycle_Index' qui s'incrémente correctement.\n",
      "Le fichier '2018-04-12_4_8C_80per_4_8C_newstructure_CH9.csv' a une colonne 'Cycle_Index' qui s'incrémente correctement.\n"
     ]
    }
   ],
   "source": [
    "import os\n",
    "import pandas as pd\n",
    "\n",
    "directory = r'C:\\\\Users\\\\pc\\\\Desktop\\\\data\\\\all batchs'  # Remplace par ton chemin\n",
    "\n",
    "# Lister tous les fichiers CSV dans le répertoire\n",
    "csv_files = [f for f in os.listdir(directory) if f.endswith('.csv')]\n",
    "\n",
    "# Parcourir chaque fichier CSV\n",
    "for csv_file in csv_files:\n",
    "    file_path = os.path.join(directory, csv_file)\n",
    "    df = pd.read_csv(file_path)\n",
    "\n",
    "    # Vérifier que la colonne 'Cycle_Index' s'incrémente de 1 lorsque la valeur augmente\n",
    "    increments = df['Cycle_Index'].diff().reset_index(drop=True)  # Réinitialiser les index de la série\n",
    "\n",
    "    # Trouver les lignes où l'incrémentation n'est pas égale à 1 (exclure la première ligne)\n",
    "    incorrect_increments = df.iloc[1:].loc[(increments.iloc[1:] != 1)&(increments.iloc[1:] != 0)]\n",
    "\n",
    "    # Afficher les résultats\n",
    "    if incorrect_increments.empty:\n",
    "        print(f\"Le fichier '{csv_file}' a une colonne 'Cycle_Index' qui s'incrémente correctement.\")\n",
    "    else:\n",
    "        print(f\"Le fichier '{csv_file}' a des erreurs d'incrémentation dans la colonne 'Cycle_Index' :\")\n",
    "        print(incorrect_increments[['Cycle_Index']])\n",
    "        print(\"\\n\")\n"
   ]
  }
 ],
 "metadata": {
  "kernelspec": {
   "display_name": "Python 3",
   "language": "python",
   "name": "python3"
  },
  "language_info": {
   "codemirror_mode": {
    "name": "ipython",
    "version": 3
   },
   "file_extension": ".py",
   "mimetype": "text/x-python",
   "name": "python",
   "nbconvert_exporter": "python",
   "pygments_lexer": "ipython3",
   "version": "3.12.5"
  }
 },
 "nbformat": 4,
 "nbformat_minor": 2
}
