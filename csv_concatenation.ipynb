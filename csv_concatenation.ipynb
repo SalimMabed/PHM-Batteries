{
 "cells": [
  {
   "cell_type": "code",
   "execution_count": 7,
   "metadata": {},
   "outputs": [],
   "source": [
    "import pandas as pd\n",
    "import os\n",
    "\n",
    "# Chemins des fichiers existant et nouveau pour le canal 1\n",
    "existing_file = r'C:\\Users\\pc\\Desktop\\data\\batch 1\\2017-05-12_3_6C-80per_3_6C_CH1.csv'\n",
    "new_file = r'C:\\Users\\pc\\Desktop\\data\\batch1(suite)\\2017-06-30_3_6C-80per_3_6C_CH1.csv'\n",
    "output_file = r'C:\\Users\\pc\\Desktop\\data\\combined\\2017_combined_3_6C-80per_3_6C_CH1.csv'\n",
    "\n",
    "# Charger les fichiers CSV\n",
    "existing_data = pd.read_csv(existing_file)\n",
    "new_data = pd.read_csv(new_file)\n",
    "\n",
    "# Récupérer les dernières valeurs des colonnes nécessaires du fichier existant\n",
    "last_data_point = existing_data['Data_Point'].iloc[-1]\n",
    "last_test_time = existing_data['Test_Time'].iloc[-1]\n",
    "last_step_index = existing_data['Step_Index'].iloc[-1]\n",
    "last_cycle_index = existing_data['Cycle_Index'].iloc[-1]\n",
    "\n",
    "# Ajuster les colonnes nécessaires dans le nouveau fichier\n",
    "new_data['Data_Point'] += last_data_point+1\n",
    "new_data['Test_Time'] += last_test_time+1\n",
    "new_data['Step_Index'] += last_step_index+1\n",
    "new_data['Cycle_Index'] += last_cycle_index+1\n",
    "\n",
    "# Concaténer les données ajustées\n",
    "combined_data = pd.concat([existing_data, new_data])\n",
    "\n",
    "# Sauvegarder les données combinées\n",
    "combined_data.to_csv(output_file, index=False)\n",
    "\n",
    "print('Les données des fichiers pour le canal 1 ont été combinées et sauvegardées avec succès.')\n"
   ]
  }
 ],
 "metadata": {
  "kernelspec": {
   "display_name": "base",
   "language": "python",
   "name": "python3"
  },
  "language_info": {
   "codemirror_mode": {
    "name": "ipython",
    "version": 3
   },
   "file_extension": ".py",
   "mimetype": "text/x-python",
   "name": "python",
   "nbconvert_exporter": "python",
   "pygments_lexer": "ipython3",
   "version": "3.11.5"
  }
 },
 "nbformat": 4,
 "nbformat_minor": 2
}
