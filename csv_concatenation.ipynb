{
 "cells": [
  {
   "cell_type": "code",
   "execution_count": 3,
   "metadata": {},
   "outputs": [
    {
     "name": "stdout",
     "output_type": "stream",
     "text": [
      "Les données des fichiers pour le suffixe CH1.csv ont été combinées et sauvegardées avec succès.\n",
      "Les données des fichiers pour le suffixe CH6.csv ont été combinées et sauvegardées avec succès.\n",
      "Les données des fichiers pour le suffixe CH5.csv ont été combinées et sauvegardées avec succès.\n",
      "Les données des fichiers pour le suffixe CH2.csv ont été combinées et sauvegardées avec succès.\n",
      "Les données des fichiers pour le suffixe CH3.csv ont été combinées et sauvegardées avec succès.\n"
     ]
    }
   ],
   "source": [
    "import pandas as pd\n",
    "import os\n",
    "\n",
    "# Chemins des dossiers\n",
    "batch1_folder = r'C:\\Users\\pc\\Desktop\\data\\batch 1(original)'\n",
    "batch1_suite_folder = r'C:\\Users\\pc\\Desktop\\data\\batch1(suite)'\n",
    "output_folder = r'C:\\Users\\pc\\Desktop\\data\\combined'\n",
    "\n",
    "# Créer le dossier de sortie s'il n\n",
    "os.makedirs(output_folder, exist_ok=True)\n",
    "\n",
    "# Obtenir la liste des fichiers dans chaque dossier\n",
    "batch1_files = os.listdir(batch1_folder)\n",
    "batch1_suite_files = os.listdir(batch1_suite_folder)\n",
    "\n",
    "# Filtrer et trier les fichiers pour garantir la correspondance\n",
    "batch1_files = [f for f in batch1_files if f.endswith('.csv')]\n",
    "batch1_suite_files = [f for f in batch1_suite_files if f.endswith('.csv')]\n",
    "\n",
    "# Associer les fichiers par leur suffixe\n",
    "#on utilise la suite pour eviter les fichier complet dans batch1\n",
    "suffixes = set(f.split('_')[-1] for f in batch1_suite_files)\n",
    "\n",
    "for suffix in suffixes:\n",
    "    \n",
    "    # Trouver les fichiers correspondants dans chaque dossier\n",
    "    matching_existing_files = [f for f in batch1_files if f.endswith(suffix)]\n",
    "    matching_new_files = [f for f in batch1_suite_files if f.endswith(suffix)]\n",
    "    \n",
    "    if len(matching_existing_files) != 1 or len(matching_new_files) != 1:\n",
    "        raise ValueError(f\"Problème avec les fichiers correspondants pour le suffixe {suffix}\")\n",
    "    \n",
    "    existing_file = os.path.join(batch1_folder, matching_existing_files[0])\n",
    "    new_file = os.path.join(batch1_suite_folder, matching_new_files[0])\n",
    "    \n",
    "    # Charger les fichiers CSV\n",
    "    existing_data = pd.read_csv(existing_file)\n",
    "    new_data = pd.read_csv(new_file)\n",
    "\n",
    "    # Vérifier l'existence des colonnes nécessaires\n",
    "    required_columns = ['Data_Point', 'Test_Time', 'Step_Index', 'Cycle_Index']\n",
    "    for col in required_columns:\n",
    "        if col not in existing_data.columns or col not in new_data.columns:\n",
    "            raise ValueError(f\"Colonne {col} manquante dans un des fichiers CSV: {existing_file} ou {new_file}.\")\n",
    "\n",
    "    # Récupérer les dernières valeurs des colonnes nécessaires du fichier existant\n",
    "    last_data_point = existing_data['Data_Point'].iloc[-1]\n",
    "    last_test_time = existing_data['Test_Time'].iloc[-1]\n",
    "    last_step_index = existing_data['Step_Index'].iloc[-1]\n",
    "    last_cycle_index = existing_data['Cycle_Index'].iloc[-1]\n",
    "\n",
    "    # Ajuster les colonnes nécessaires dans le nouveau fichier\n",
    "    new_data['Data_Point'] += last_data_point + 1\n",
    "    new_data['Test_Time'] += last_test_time + 1\n",
    "    new_data['Step_Index'] += last_step_index + 1\n",
    "    new_data['Cycle_Index'] += last_cycle_index + 1\n",
    "\n",
    "    # Concaténer les données ajustées\n",
    "    combined_data = pd.concat([existing_data, new_data], ignore_index=True)\n",
    "\n",
    "    # Construire le nom de fichier de sortie en utilisant le nom du fichier existant\n",
    "    output_file = os.path.join(output_folder, matching_existing_files[0])\n",
    "    \n",
    "    # Sauvegarder les données combinées\n",
    "    combined_data.to_csv(output_file, index=False)\n",
    "\n",
    "    print(f'Les données des fichiers pour le suffixe {suffix} ont été combinées et sauvegardées avec succès.')\n"
   ]
  }
 ],
 "metadata": {
  "kernelspec": {
   "display_name": "base",
   "language": "python",
   "name": "python3"
  },
  "language_info": {
   "codemirror_mode": {
    "name": "ipython",
    "version": 3
   },
   "file_extension": ".py",
   "mimetype": "text/x-python",
   "name": "python",
   "nbconvert_exporter": "python",
   "pygments_lexer": "ipython3",
   "version": "3.11.5"
  }
 },
 "nbformat": 4,
 "nbformat_minor": 2
}
