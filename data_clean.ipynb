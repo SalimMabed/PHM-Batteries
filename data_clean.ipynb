{
 "cells": [
  {
   "cell_type": "code",
   "execution_count": 35,
   "metadata": {},
   "outputs": [
    {
     "name": "stdout",
     "output_type": "stream",
     "text": [
      "Colonnes supprimées de : 2017-05-12_3_6C-80per_3_6C_CH1.csv\n",
      "Colonnes supprimées de : 2017-05-12_3_6C-80per_3_6C_CH2.csv\n",
      "Colonnes supprimées de : 2017-05-12_3_6C-80per_3_6C_CH3.csv\n",
      "Colonnes supprimées de : 2017-05-12_4C-80per_4C_CH5.csv\n",
      "Colonnes supprimées de : 2017-05-12_4C-80per_4C_CH6.csv\n",
      "Colonnes supprimées de : 2017-05-12_4_4C-80per_4_4C_CH7.csv\n",
      "Colonnes supprimées de : 2017-05-12_4_8C-80per_4_8C_CH10.csv\n",
      "Colonnes supprimées de : 2017-05-12_4_8C-80per_4_8C_CH9.csv\n",
      "Colonnes supprimées de : 2017-05-12_5_4C-80per_5_4C_CH11.csv\n",
      "Colonnes supprimées de : 2017-05-12_5_4C-80per_5_4C_CH12.csv\n",
      "Colonnes supprimées de : 2017-06-30_4_8C-80per_4_8C_CH4.csv\n",
      "Colonnes supprimées de : 2017-06-30_4_8C-80per_4_8C_CH7.csv\n",
      "Colonnes supprimées de : 2017-06-30_4_8C-80per_4_8C_CH8.csv\n",
      "Colonnes supprimées de : 2018-04-12_4_8C_80per_4_8C_newstructure_CH1.csv\n",
      "Colonnes supprimées de : 2018-04-12_4_8C_80per_4_8C_newstructure_CH17.csv\n",
      "Colonnes supprimées de : 2018-04-12_4_8C_80per_4_8C_newstructure_CH25.csv\n",
      "Colonnes supprimées de : 2018-04-12_4_8C_80per_4_8C_newstructure_CH9.csv\n"
     ]
    }
   ],
   "source": [
    "import os\n",
    "import pandas as pd\n",
    "\n",
    "def remove_columns_from_csv(directory, columns_to_remove):\n",
    "    # Lister tous les fichiers CSV dans le répertoire donné\n",
    "    csv_files = [f for f in os.listdir(directory) if f.endswith('.csv')]\n",
    "\n",
    "    # Parcourir chaque fichier CSV\n",
    "    for csv_file in csv_files:\n",
    "        file_path = os.path.join(directory, csv_file)\n",
    "        \n",
    "        # Lire le fichier CSV\n",
    "        df = pd.read_csv(file_path)\n",
    "        \n",
    "        # Vérifier et supprimer les colonnes spécifiques si elles existent\n",
    "        df.drop(columns=[col for col in columns_to_remove if col in df.columns], inplace=True)\n",
    "        \n",
    "        # Enregistrer le fichier CSV modifié (remplace le fichier original)\n",
    "        df.to_csv(file_path, index=False)\n",
    "        print(f\"Colonnes supprimées de : {csv_file}\")\n",
    "\n",
    "directory = r'C:\\\\Users\\\\pc\\\\Desktop\\\\data\\\\all batchs'\n",
    "\n",
    "\n",
    "columns_to_remove = ['Test_Time', 'DateTime', 'Step_Time', 'Step_Index', 'Aux_Voltage','Data_Point']\n",
    "\n",
    "\n",
    "remove_columns_from_csv(directory, columns_to_remove)\n"
   ]
  },
  {
   "cell_type": "code",
   "execution_count": 42,
   "metadata": {},
   "outputs": [
    {
     "ename": "KeyboardInterrupt",
     "evalue": "",
     "output_type": "error",
     "traceback": [
      "\u001b[1;31m---------------------------------------------------------------------------\u001b[0m",
      "\u001b[1;31mKeyboardInterrupt\u001b[0m                         Traceback (most recent call last)",
      "Cell \u001b[1;32mIn[42], line 29\u001b[0m\n\u001b[0;32m     25\u001b[0m directory \u001b[38;5;241m=\u001b[39m \u001b[38;5;124mr\u001b[39m\u001b[38;5;124m'\u001b[39m\u001b[38;5;124mC:\u001b[39m\u001b[38;5;124m\\\u001b[39m\u001b[38;5;124mUsers\u001b[39m\u001b[38;5;124m\\\u001b[39m\u001b[38;5;124mpc\u001b[39m\u001b[38;5;124m\\\u001b[39m\u001b[38;5;124mDesktop\u001b[39m\u001b[38;5;124m\\\u001b[39m\u001b[38;5;124mdata\u001b[39m\u001b[38;5;124m\\\u001b[39m\u001b[38;5;124mall batchs\u001b[39m\u001b[38;5;124m'\u001b[39m  \u001b[38;5;66;03m# Remplacez par votre chemin\u001b[39;00m\n\u001b[0;32m     28\u001b[0m \u001b[38;5;66;03m# Appel de la fonction\u001b[39;00m\n\u001b[1;32m---> 29\u001b[0m \u001b[43mremove_rows\u001b[49m\u001b[43m(\u001b[49m\u001b[43mdirectory\u001b[49m\u001b[43m)\u001b[49m\n",
      "Cell \u001b[1;32mIn[42], line 21\u001b[0m, in \u001b[0;36mremove_rows\u001b[1;34m(directory)\u001b[0m\n\u001b[0;32m     18\u001b[0m df \u001b[38;5;241m=\u001b[39m df[df[\u001b[38;5;124m'\u001b[39m\u001b[38;5;124mCycle_Index\u001b[39m\u001b[38;5;124m'\u001b[39m] \u001b[38;5;241m!=\u001b[39m \u001b[38;5;241m0\u001b[39m]\n\u001b[0;32m     20\u001b[0m \u001b[38;5;66;03m# Enregistrer le fichier CSV modifié (remplace le fichier original)\u001b[39;00m\n\u001b[1;32m---> 21\u001b[0m \u001b[43mdf\u001b[49m\u001b[38;5;241;43m.\u001b[39;49m\u001b[43mto_csv\u001b[49m\u001b[43m(\u001b[49m\u001b[43mfile_path\u001b[49m\u001b[43m,\u001b[49m\u001b[43m \u001b[49m\u001b[43mindex\u001b[49m\u001b[38;5;241;43m=\u001b[39;49m\u001b[38;5;28;43;01mFalse\u001b[39;49;00m\u001b[43m)\u001b[49m\n\u001b[0;32m     22\u001b[0m \u001b[38;5;28mprint\u001b[39m(\u001b[38;5;124mf\u001b[39m\u001b[38;5;124m\"\u001b[39m\u001b[38;5;124mlignes filtrées dans : \u001b[39m\u001b[38;5;132;01m{\u001b[39;00mcsv_file\u001b[38;5;132;01m}\u001b[39;00m\u001b[38;5;124m\"\u001b[39m)\n",
      "File \u001b[1;32m~\\AppData\\Local\\Packages\\PythonSoftwareFoundation.Python.3.12_qbz5n2kfra8p0\\LocalCache\\local-packages\\Python312\\site-packages\\pandas\\core\\generic.py:3902\u001b[0m, in \u001b[0;36mNDFrame.to_csv\u001b[1;34m(self, path_or_buf, sep, na_rep, float_format, columns, header, index, index_label, mode, encoding, compression, quoting, quotechar, lineterminator, chunksize, date_format, doublequote, escapechar, decimal, errors, storage_options)\u001b[0m\n\u001b[0;32m   3891\u001b[0m df \u001b[38;5;241m=\u001b[39m \u001b[38;5;28mself\u001b[39m \u001b[38;5;28;01mif\u001b[39;00m \u001b[38;5;28misinstance\u001b[39m(\u001b[38;5;28mself\u001b[39m, ABCDataFrame) \u001b[38;5;28;01melse\u001b[39;00m \u001b[38;5;28mself\u001b[39m\u001b[38;5;241m.\u001b[39mto_frame()\n\u001b[0;32m   3893\u001b[0m formatter \u001b[38;5;241m=\u001b[39m DataFrameFormatter(\n\u001b[0;32m   3894\u001b[0m     frame\u001b[38;5;241m=\u001b[39mdf,\n\u001b[0;32m   3895\u001b[0m     header\u001b[38;5;241m=\u001b[39mheader,\n\u001b[1;32m   (...)\u001b[0m\n\u001b[0;32m   3899\u001b[0m     decimal\u001b[38;5;241m=\u001b[39mdecimal,\n\u001b[0;32m   3900\u001b[0m )\n\u001b[1;32m-> 3902\u001b[0m \u001b[38;5;28;01mreturn\u001b[39;00m \u001b[43mDataFrameRenderer\u001b[49m\u001b[43m(\u001b[49m\u001b[43mformatter\u001b[49m\u001b[43m)\u001b[49m\u001b[38;5;241;43m.\u001b[39;49m\u001b[43mto_csv\u001b[49m\u001b[43m(\u001b[49m\n\u001b[0;32m   3903\u001b[0m \u001b[43m    \u001b[49m\u001b[43mpath_or_buf\u001b[49m\u001b[43m,\u001b[49m\n\u001b[0;32m   3904\u001b[0m \u001b[43m    \u001b[49m\u001b[43mlineterminator\u001b[49m\u001b[38;5;241;43m=\u001b[39;49m\u001b[43mlineterminator\u001b[49m\u001b[43m,\u001b[49m\n\u001b[0;32m   3905\u001b[0m \u001b[43m    \u001b[49m\u001b[43msep\u001b[49m\u001b[38;5;241;43m=\u001b[39;49m\u001b[43msep\u001b[49m\u001b[43m,\u001b[49m\n\u001b[0;32m   3906\u001b[0m \u001b[43m    \u001b[49m\u001b[43mencoding\u001b[49m\u001b[38;5;241;43m=\u001b[39;49m\u001b[43mencoding\u001b[49m\u001b[43m,\u001b[49m\n\u001b[0;32m   3907\u001b[0m \u001b[43m    \u001b[49m\u001b[43merrors\u001b[49m\u001b[38;5;241;43m=\u001b[39;49m\u001b[43merrors\u001b[49m\u001b[43m,\u001b[49m\n\u001b[0;32m   3908\u001b[0m \u001b[43m    \u001b[49m\u001b[43mcompression\u001b[49m\u001b[38;5;241;43m=\u001b[39;49m\u001b[43mcompression\u001b[49m\u001b[43m,\u001b[49m\n\u001b[0;32m   3909\u001b[0m \u001b[43m    \u001b[49m\u001b[43mquoting\u001b[49m\u001b[38;5;241;43m=\u001b[39;49m\u001b[43mquoting\u001b[49m\u001b[43m,\u001b[49m\n\u001b[0;32m   3910\u001b[0m \u001b[43m    \u001b[49m\u001b[43mcolumns\u001b[49m\u001b[38;5;241;43m=\u001b[39;49m\u001b[43mcolumns\u001b[49m\u001b[43m,\u001b[49m\n\u001b[0;32m   3911\u001b[0m \u001b[43m    \u001b[49m\u001b[43mindex_label\u001b[49m\u001b[38;5;241;43m=\u001b[39;49m\u001b[43mindex_label\u001b[49m\u001b[43m,\u001b[49m\n\u001b[0;32m   3912\u001b[0m \u001b[43m    \u001b[49m\u001b[43mmode\u001b[49m\u001b[38;5;241;43m=\u001b[39;49m\u001b[43mmode\u001b[49m\u001b[43m,\u001b[49m\n\u001b[0;32m   3913\u001b[0m \u001b[43m    \u001b[49m\u001b[43mchunksize\u001b[49m\u001b[38;5;241;43m=\u001b[39;49m\u001b[43mchunksize\u001b[49m\u001b[43m,\u001b[49m\n\u001b[0;32m   3914\u001b[0m \u001b[43m    \u001b[49m\u001b[43mquotechar\u001b[49m\u001b[38;5;241;43m=\u001b[39;49m\u001b[43mquotechar\u001b[49m\u001b[43m,\u001b[49m\n\u001b[0;32m   3915\u001b[0m \u001b[43m    \u001b[49m\u001b[43mdate_format\u001b[49m\u001b[38;5;241;43m=\u001b[39;49m\u001b[43mdate_format\u001b[49m\u001b[43m,\u001b[49m\n\u001b[0;32m   3916\u001b[0m \u001b[43m    \u001b[49m\u001b[43mdoublequote\u001b[49m\u001b[38;5;241;43m=\u001b[39;49m\u001b[43mdoublequote\u001b[49m\u001b[43m,\u001b[49m\n\u001b[0;32m   3917\u001b[0m \u001b[43m    \u001b[49m\u001b[43mescapechar\u001b[49m\u001b[38;5;241;43m=\u001b[39;49m\u001b[43mescapechar\u001b[49m\u001b[43m,\u001b[49m\n\u001b[0;32m   3918\u001b[0m \u001b[43m    \u001b[49m\u001b[43mstorage_options\u001b[49m\u001b[38;5;241;43m=\u001b[39;49m\u001b[43mstorage_options\u001b[49m\u001b[43m,\u001b[49m\n\u001b[0;32m   3919\u001b[0m \u001b[43m\u001b[49m\u001b[43m)\u001b[49m\n",
      "File \u001b[1;32m~\\AppData\\Local\\Packages\\PythonSoftwareFoundation.Python.3.12_qbz5n2kfra8p0\\LocalCache\\local-packages\\Python312\\site-packages\\pandas\\io\\formats\\format.py:1152\u001b[0m, in \u001b[0;36mDataFrameRenderer.to_csv\u001b[1;34m(self, path_or_buf, encoding, sep, columns, index_label, mode, compression, quoting, quotechar, lineterminator, chunksize, date_format, doublequote, escapechar, errors, storage_options)\u001b[0m\n\u001b[0;32m   1131\u001b[0m     created_buffer \u001b[38;5;241m=\u001b[39m \u001b[38;5;28;01mFalse\u001b[39;00m\n\u001b[0;32m   1133\u001b[0m csv_formatter \u001b[38;5;241m=\u001b[39m CSVFormatter(\n\u001b[0;32m   1134\u001b[0m     path_or_buf\u001b[38;5;241m=\u001b[39mpath_or_buf,\n\u001b[0;32m   1135\u001b[0m     lineterminator\u001b[38;5;241m=\u001b[39mlineterminator,\n\u001b[1;32m   (...)\u001b[0m\n\u001b[0;32m   1150\u001b[0m     formatter\u001b[38;5;241m=\u001b[39m\u001b[38;5;28mself\u001b[39m\u001b[38;5;241m.\u001b[39mfmt,\n\u001b[0;32m   1151\u001b[0m )\n\u001b[1;32m-> 1152\u001b[0m \u001b[43mcsv_formatter\u001b[49m\u001b[38;5;241;43m.\u001b[39;49m\u001b[43msave\u001b[49m\u001b[43m(\u001b[49m\u001b[43m)\u001b[49m\n\u001b[0;32m   1154\u001b[0m \u001b[38;5;28;01mif\u001b[39;00m created_buffer:\n\u001b[0;32m   1155\u001b[0m     \u001b[38;5;28;01massert\u001b[39;00m \u001b[38;5;28misinstance\u001b[39m(path_or_buf, StringIO)\n",
      "File \u001b[1;32m~\\AppData\\Local\\Packages\\PythonSoftwareFoundation.Python.3.12_qbz5n2kfra8p0\\LocalCache\\local-packages\\Python312\\site-packages\\pandas\\io\\formats\\csvs.py:266\u001b[0m, in \u001b[0;36mCSVFormatter.save\u001b[1;34m(self)\u001b[0m\n\u001b[0;32m    247\u001b[0m \u001b[38;5;28;01mwith\u001b[39;00m get_handle(\n\u001b[0;32m    248\u001b[0m     \u001b[38;5;28mself\u001b[39m\u001b[38;5;241m.\u001b[39mfilepath_or_buffer,\n\u001b[0;32m    249\u001b[0m     \u001b[38;5;28mself\u001b[39m\u001b[38;5;241m.\u001b[39mmode,\n\u001b[1;32m   (...)\u001b[0m\n\u001b[0;32m    254\u001b[0m ) \u001b[38;5;28;01mas\u001b[39;00m handles:\n\u001b[0;32m    255\u001b[0m     \u001b[38;5;66;03m# Note: self.encoding is irrelevant here\u001b[39;00m\n\u001b[0;32m    256\u001b[0m     \u001b[38;5;28mself\u001b[39m\u001b[38;5;241m.\u001b[39mwriter \u001b[38;5;241m=\u001b[39m csvlib\u001b[38;5;241m.\u001b[39mwriter(\n\u001b[0;32m    257\u001b[0m         handles\u001b[38;5;241m.\u001b[39mhandle,\n\u001b[0;32m    258\u001b[0m         lineterminator\u001b[38;5;241m=\u001b[39m\u001b[38;5;28mself\u001b[39m\u001b[38;5;241m.\u001b[39mlineterminator,\n\u001b[1;32m   (...)\u001b[0m\n\u001b[0;32m    263\u001b[0m         quotechar\u001b[38;5;241m=\u001b[39m\u001b[38;5;28mself\u001b[39m\u001b[38;5;241m.\u001b[39mquotechar,\n\u001b[0;32m    264\u001b[0m     )\n\u001b[1;32m--> 266\u001b[0m     \u001b[38;5;28;43mself\u001b[39;49m\u001b[38;5;241;43m.\u001b[39;49m\u001b[43m_save\u001b[49m\u001b[43m(\u001b[49m\u001b[43m)\u001b[49m\n",
      "File \u001b[1;32m~\\AppData\\Local\\Packages\\PythonSoftwareFoundation.Python.3.12_qbz5n2kfra8p0\\LocalCache\\local-packages\\Python312\\site-packages\\pandas\\io\\formats\\csvs.py:271\u001b[0m, in \u001b[0;36mCSVFormatter._save\u001b[1;34m(self)\u001b[0m\n\u001b[0;32m    269\u001b[0m \u001b[38;5;28;01mif\u001b[39;00m \u001b[38;5;28mself\u001b[39m\u001b[38;5;241m.\u001b[39m_need_to_save_header:\n\u001b[0;32m    270\u001b[0m     \u001b[38;5;28mself\u001b[39m\u001b[38;5;241m.\u001b[39m_save_header()\n\u001b[1;32m--> 271\u001b[0m \u001b[38;5;28;43mself\u001b[39;49m\u001b[38;5;241;43m.\u001b[39;49m\u001b[43m_save_body\u001b[49m\u001b[43m(\u001b[49m\u001b[43m)\u001b[49m\n",
      "File \u001b[1;32m~\\AppData\\Local\\Packages\\PythonSoftwareFoundation.Python.3.12_qbz5n2kfra8p0\\LocalCache\\local-packages\\Python312\\site-packages\\pandas\\io\\formats\\csvs.py:309\u001b[0m, in \u001b[0;36mCSVFormatter._save_body\u001b[1;34m(self)\u001b[0m\n\u001b[0;32m    307\u001b[0m \u001b[38;5;28;01mif\u001b[39;00m start_i \u001b[38;5;241m>\u001b[39m\u001b[38;5;241m=\u001b[39m end_i:\n\u001b[0;32m    308\u001b[0m     \u001b[38;5;28;01mbreak\u001b[39;00m\n\u001b[1;32m--> 309\u001b[0m \u001b[38;5;28;43mself\u001b[39;49m\u001b[38;5;241;43m.\u001b[39;49m\u001b[43m_save_chunk\u001b[49m\u001b[43m(\u001b[49m\u001b[43mstart_i\u001b[49m\u001b[43m,\u001b[49m\u001b[43m \u001b[49m\u001b[43mend_i\u001b[49m\u001b[43m)\u001b[49m\n",
      "File \u001b[1;32m~\\AppData\\Local\\Packages\\PythonSoftwareFoundation.Python.3.12_qbz5n2kfra8p0\\LocalCache\\local-packages\\Python312\\site-packages\\pandas\\io\\formats\\csvs.py:316\u001b[0m, in \u001b[0;36mCSVFormatter._save_chunk\u001b[1;34m(self, start_i, end_i)\u001b[0m\n\u001b[0;32m    313\u001b[0m slicer \u001b[38;5;241m=\u001b[39m \u001b[38;5;28mslice\u001b[39m(start_i, end_i)\n\u001b[0;32m    314\u001b[0m df \u001b[38;5;241m=\u001b[39m \u001b[38;5;28mself\u001b[39m\u001b[38;5;241m.\u001b[39mobj\u001b[38;5;241m.\u001b[39miloc[slicer]\n\u001b[1;32m--> 316\u001b[0m res \u001b[38;5;241m=\u001b[39m \u001b[43mdf\u001b[49m\u001b[38;5;241;43m.\u001b[39;49m\u001b[43m_mgr\u001b[49m\u001b[38;5;241;43m.\u001b[39;49m\u001b[43mto_native_types\u001b[49m\u001b[43m(\u001b[49m\u001b[38;5;241;43m*\u001b[39;49m\u001b[38;5;241;43m*\u001b[39;49m\u001b[38;5;28;43mself\u001b[39;49m\u001b[38;5;241;43m.\u001b[39;49m\u001b[43m_number_format\u001b[49m\u001b[43m)\u001b[49m\n\u001b[0;32m    317\u001b[0m data \u001b[38;5;241m=\u001b[39m [res\u001b[38;5;241m.\u001b[39miget_values(i) \u001b[38;5;28;01mfor\u001b[39;00m i \u001b[38;5;129;01min\u001b[39;00m \u001b[38;5;28mrange\u001b[39m(\u001b[38;5;28mlen\u001b[39m(res\u001b[38;5;241m.\u001b[39mitems))]\n\u001b[0;32m    319\u001b[0m ix \u001b[38;5;241m=\u001b[39m \u001b[38;5;28mself\u001b[39m\u001b[38;5;241m.\u001b[39mdata_index[slicer]\u001b[38;5;241m.\u001b[39m_format_native_types(\u001b[38;5;241m*\u001b[39m\u001b[38;5;241m*\u001b[39m\u001b[38;5;28mself\u001b[39m\u001b[38;5;241m.\u001b[39m_number_format)\n",
      "File \u001b[1;32m~\\AppData\\Local\\Packages\\PythonSoftwareFoundation.Python.3.12_qbz5n2kfra8p0\\LocalCache\\local-packages\\Python312\\site-packages\\pandas\\core\\internals\\managers.py:438\u001b[0m, in \u001b[0;36mBaseBlockManager.to_native_types\u001b[1;34m(self, **kwargs)\u001b[0m\n\u001b[0;32m    433\u001b[0m \u001b[38;5;28;01mdef\u001b[39;00m \u001b[38;5;21mto_native_types\u001b[39m(\u001b[38;5;28mself\u001b[39m, \u001b[38;5;241m*\u001b[39m\u001b[38;5;241m*\u001b[39mkwargs) \u001b[38;5;241m-\u001b[39m\u001b[38;5;241m>\u001b[39m Self:\n\u001b[0;32m    434\u001b[0m \u001b[38;5;250m    \u001b[39m\u001b[38;5;124;03m\"\"\"\u001b[39;00m\n\u001b[0;32m    435\u001b[0m \u001b[38;5;124;03m    Convert values to native types (strings / python objects) that are used\u001b[39;00m\n\u001b[0;32m    436\u001b[0m \u001b[38;5;124;03m    in formatting (repr / csv).\u001b[39;00m\n\u001b[0;32m    437\u001b[0m \u001b[38;5;124;03m    \"\"\"\u001b[39;00m\n\u001b[1;32m--> 438\u001b[0m     \u001b[38;5;28;01mreturn\u001b[39;00m \u001b[38;5;28;43mself\u001b[39;49m\u001b[38;5;241;43m.\u001b[39;49m\u001b[43mapply\u001b[49m\u001b[43m(\u001b[49m\u001b[38;5;124;43m\"\u001b[39;49m\u001b[38;5;124;43mto_native_types\u001b[39;49m\u001b[38;5;124;43m\"\u001b[39;49m\u001b[43m,\u001b[49m\u001b[43m \u001b[49m\u001b[38;5;241;43m*\u001b[39;49m\u001b[38;5;241;43m*\u001b[39;49m\u001b[43mkwargs\u001b[49m\u001b[43m)\u001b[49m\n",
      "File \u001b[1;32m~\\AppData\\Local\\Packages\\PythonSoftwareFoundation.Python.3.12_qbz5n2kfra8p0\\LocalCache\\local-packages\\Python312\\site-packages\\pandas\\core\\internals\\managers.py:354\u001b[0m, in \u001b[0;36mBaseBlockManager.apply\u001b[1;34m(self, f, align_keys, **kwargs)\u001b[0m\n\u001b[0;32m    352\u001b[0m         applied \u001b[38;5;241m=\u001b[39m b\u001b[38;5;241m.\u001b[39mapply(f, \u001b[38;5;241m*\u001b[39m\u001b[38;5;241m*\u001b[39mkwargs)\n\u001b[0;32m    353\u001b[0m     \u001b[38;5;28;01melse\u001b[39;00m:\n\u001b[1;32m--> 354\u001b[0m         applied \u001b[38;5;241m=\u001b[39m \u001b[38;5;28;43mgetattr\u001b[39;49m\u001b[43m(\u001b[49m\u001b[43mb\u001b[49m\u001b[43m,\u001b[49m\u001b[43m \u001b[49m\u001b[43mf\u001b[49m\u001b[43m)\u001b[49m\u001b[43m(\u001b[49m\u001b[38;5;241;43m*\u001b[39;49m\u001b[38;5;241;43m*\u001b[39;49m\u001b[43mkwargs\u001b[49m\u001b[43m)\u001b[49m\n\u001b[0;32m    355\u001b[0m     result_blocks \u001b[38;5;241m=\u001b[39m extend_blocks(applied, result_blocks)\n\u001b[0;32m    357\u001b[0m out \u001b[38;5;241m=\u001b[39m \u001b[38;5;28mtype\u001b[39m(\u001b[38;5;28mself\u001b[39m)\u001b[38;5;241m.\u001b[39mfrom_blocks(result_blocks, \u001b[38;5;28mself\u001b[39m\u001b[38;5;241m.\u001b[39maxes)\n",
      "File \u001b[1;32m~\\AppData\\Local\\Packages\\PythonSoftwareFoundation.Python.3.12_qbz5n2kfra8p0\\LocalCache\\local-packages\\Python312\\site-packages\\pandas\\core\\internals\\blocks.py:636\u001b[0m, in \u001b[0;36mBlock.to_native_types\u001b[1;34m(self, na_rep, quoting, **kwargs)\u001b[0m\n\u001b[0;32m    633\u001b[0m \u001b[38;5;129m@final\u001b[39m\n\u001b[0;32m    634\u001b[0m \u001b[38;5;28;01mdef\u001b[39;00m \u001b[38;5;21mto_native_types\u001b[39m(\u001b[38;5;28mself\u001b[39m, na_rep: \u001b[38;5;28mstr\u001b[39m \u001b[38;5;241m=\u001b[39m \u001b[38;5;124m\"\u001b[39m\u001b[38;5;124mnan\u001b[39m\u001b[38;5;124m\"\u001b[39m, quoting\u001b[38;5;241m=\u001b[39m\u001b[38;5;28;01mNone\u001b[39;00m, \u001b[38;5;241m*\u001b[39m\u001b[38;5;241m*\u001b[39mkwargs) \u001b[38;5;241m-\u001b[39m\u001b[38;5;241m>\u001b[39m Block:\n\u001b[0;32m    635\u001b[0m \u001b[38;5;250m    \u001b[39m\u001b[38;5;124;03m\"\"\"convert to our native types format\"\"\"\u001b[39;00m\n\u001b[1;32m--> 636\u001b[0m     result \u001b[38;5;241m=\u001b[39m \u001b[43mto_native_types\u001b[49m\u001b[43m(\u001b[49m\u001b[38;5;28;43mself\u001b[39;49m\u001b[38;5;241;43m.\u001b[39;49m\u001b[43mvalues\u001b[49m\u001b[43m,\u001b[49m\u001b[43m \u001b[49m\u001b[43mna_rep\u001b[49m\u001b[38;5;241;43m=\u001b[39;49m\u001b[43mna_rep\u001b[49m\u001b[43m,\u001b[49m\u001b[43m \u001b[49m\u001b[43mquoting\u001b[49m\u001b[38;5;241;43m=\u001b[39;49m\u001b[43mquoting\u001b[49m\u001b[43m,\u001b[49m\u001b[43m \u001b[49m\u001b[38;5;241;43m*\u001b[39;49m\u001b[38;5;241;43m*\u001b[39;49m\u001b[43mkwargs\u001b[49m\u001b[43m)\u001b[49m\n\u001b[0;32m    637\u001b[0m     \u001b[38;5;28;01mreturn\u001b[39;00m \u001b[38;5;28mself\u001b[39m\u001b[38;5;241m.\u001b[39mmake_block(result)\n",
      "File \u001b[1;32m~\\AppData\\Local\\Packages\\PythonSoftwareFoundation.Python.3.12_qbz5n2kfra8p0\\LocalCache\\local-packages\\Python312\\site-packages\\pandas\\core\\internals\\blocks.py:2545\u001b[0m, in \u001b[0;36mto_native_types\u001b[1;34m(values, na_rep, quoting, float_format, decimal, **kwargs)\u001b[0m\n\u001b[0;32m   2542\u001b[0m         values \u001b[38;5;241m=\u001b[39m np\u001b[38;5;241m.\u001b[39marray(values, dtype\u001b[38;5;241m=\u001b[39m\u001b[38;5;124m\"\u001b[39m\u001b[38;5;124mobject\u001b[39m\u001b[38;5;124m\"\u001b[39m)\n\u001b[0;32m   2544\u001b[0m     values[mask] \u001b[38;5;241m=\u001b[39m na_rep\n\u001b[1;32m-> 2545\u001b[0m     values \u001b[38;5;241m=\u001b[39m \u001b[43mvalues\u001b[49m\u001b[38;5;241;43m.\u001b[39;49m\u001b[43mastype\u001b[49m\u001b[43m(\u001b[49m\u001b[38;5;28;43mobject\u001b[39;49m\u001b[43m,\u001b[49m\u001b[43m \u001b[49m\u001b[43mcopy\u001b[49m\u001b[38;5;241;43m=\u001b[39;49m\u001b[38;5;28;43;01mFalse\u001b[39;49;00m\u001b[43m)\u001b[49m\n\u001b[0;32m   2546\u001b[0m     \u001b[38;5;28;01mreturn\u001b[39;00m values\n\u001b[0;32m   2548\u001b[0m \u001b[38;5;28;01mfrom\u001b[39;00m \u001b[38;5;21;01mpandas\u001b[39;00m\u001b[38;5;21;01m.\u001b[39;00m\u001b[38;5;21;01mio\u001b[39;00m\u001b[38;5;21;01m.\u001b[39;00m\u001b[38;5;21;01mformats\u001b[39;00m\u001b[38;5;21;01m.\u001b[39;00m\u001b[38;5;21;01mformat\u001b[39;00m \u001b[38;5;28;01mimport\u001b[39;00m FloatArrayFormatter\n",
      "\u001b[1;31mKeyboardInterrupt\u001b[0m: "
     ]
    }
   ],
   "source": [
    "import os\n",
    "import pandas as pd\n",
    "\n",
    "def remove_rows(directory):\n",
    "    # Lister tous les fichiers CSV dans le répertoire donné \n",
    "    csv_files = [f for f in os.listdir(directory) if f.endswith('.csv') ]\n",
    "\n",
    "    # Parcourir chaque fichier CSV\n",
    "    for csv_file in csv_files:\n",
    "        file_path = os.path.join(directory, csv_file)\n",
    "        \n",
    "        # Lire le fichier CSV\n",
    "        df = pd.read_csv(file_path)\n",
    "        \n",
    "      \n",
    "        \n",
    "        # Supprimer les lignes où Cycle_Index est égal à 0\n",
    "        df = df[df['Cycle_Index'] != 0]\n",
    "        \n",
    "        # Enregistrer le fichier CSV modifié (remplace le fichier original)\n",
    "        df.to_csv(file_path, index=False)\n",
    "        print(f\"lignes filtrées dans : {csv_file}\")\n",
    "\n",
    "# Répertoire contenant les fichiers CSV\n",
    "directory = r'C:\\Users\\pc\\Desktop\\data\\all batchs'  # Remplacez par votre chemin\n",
    "\n",
    "\n",
    "# Appel de la fonction\n",
    "remove_rows(directory)\n"
   ]
  },
  {
   "cell_type": "code",
   "execution_count": 41,
   "metadata": {},
   "outputs": [
    {
     "name": "stdout",
     "output_type": "stream",
     "text": [
      "Colonne 'Cycle_Index' décrémentée dans : 2017-05-12_3_6C-80per_3_6C_CH1.csv\n",
      "Colonne 'Cycle_Index' décrémentée dans : 2017-05-12_3_6C-80per_3_6C_CH2.csv\n",
      "Colonne 'Cycle_Index' décrémentée dans : 2017-05-12_3_6C-80per_3_6C_CH3.csv\n",
      "Colonne 'Cycle_Index' décrémentée dans : 2017-05-12_4C-80per_4C_CH5.csv\n",
      "Colonne 'Cycle_Index' décrémentée dans : 2017-05-12_4C-80per_4C_CH6.csv\n",
      "Colonne 'Cycle_Index' décrémentée dans : 2017-05-12_4_4C-80per_4_4C_CH7.csv\n",
      "Colonne 'Cycle_Index' décrémentée dans : 2017-05-12_4_8C-80per_4_8C_CH10.csv\n",
      "Colonne 'Cycle_Index' décrémentée dans : 2017-05-12_4_8C-80per_4_8C_CH9.csv\n",
      "Colonne 'Cycle_Index' décrémentée dans : 2017-05-12_5_4C-80per_5_4C_CH11.csv\n",
      "Colonne 'Cycle_Index' décrémentée dans : 2017-05-12_5_4C-80per_5_4C_CH12.csv\n",
      "Colonne 'Cycle_Index' décrémentée dans : 2017-06-30_4_8C-80per_4_8C_CH4.csv\n",
      "Colonne 'Cycle_Index' décrémentée dans : 2017-06-30_4_8C-80per_4_8C_CH7.csv\n",
      "Colonne 'Cycle_Index' décrémentée dans : 2017-06-30_4_8C-80per_4_8C_CH8.csv\n",
      "Colonne 'Cycle_Index' décrémentée dans : 2018-04-12_4_8C_80per_4_8C_newstructure_CH1.csv\n",
      "Colonne 'Cycle_Index' décrémentée dans : 2018-04-12_4_8C_80per_4_8C_newstructure_CH17.csv\n",
      "Colonne 'Cycle_Index' décrémentée dans : 2018-04-12_4_8C_80per_4_8C_newstructure_CH25.csv\n",
      "Colonne 'Cycle_Index' décrémentée dans : 2018-04-12_4_8C_80per_4_8C_newstructure_CH9.csv\n"
     ]
    }
   ],
   "source": [
    "csv_files = [f for f in os.listdir(directory) if f.endswith('.csv')]\n",
    "# Parcourir chaque fichier CSV\n",
    "for csv_file in csv_files:\n",
    "    # Construire le chemin complet du fichier\n",
    "    file_path = os.path.join(directory, csv_file)\n",
    "    \n",
    "    # Lire le fichier CSV\n",
    "    df = pd.read_csv(file_path)\n",
    "    \n",
    "    \n",
    "    if 'Cycle_Index' in df.columns:\n",
    "        df['Cycle_Index'] = df['Cycle_Index'] - 1\n",
    "        \n",
    "        # Enregistrer le fichier CSV modifié (remplace le fichier original)\n",
    "        df.to_csv(file_path, index=False)\n",
    "        print(f\"Colonne 'Cycle_Index' décrémentée dans : {csv_file}\")\n",
    "    else:\n",
    "        print(f\"Colonne 'Cycle_Index' non trouvée dans : {csv_file}\")\n"
   ]
  },
  {
   "cell_type": "markdown",
   "metadata": {},
   "source": [
    "Enlever le derniers cycle des donnee de 2018"
   ]
  },
  {
   "cell_type": "code",
   "execution_count": 32,
   "metadata": {},
   "outputs": [
    {
     "name": "stdout",
     "output_type": "stream",
     "text": [
      "lignes filtrées dans : 2018-04-12_4_8C_80per_4_8C_newstructure_CH1.csv\n",
      "lignes filtrées dans : 2018-04-12_4_8C_80per_4_8C_newstructure_CH17.csv\n",
      "lignes filtrées dans : 2018-04-12_4_8C_80per_4_8C_newstructure_CH25.csv\n",
      "lignes filtrées dans : 2018-04-12_4_8C_80per_4_8C_newstructure_CH9.csv\n"
     ]
    }
   ],
   "source": [
    "import os\n",
    "import pandas as pd\n",
    "\n",
    "def remove_rows(directory):\n",
    "    # Lister tous les fichiers CSV dans le répertoire donné \n",
    "    csv_files = [f for f in os.listdir(directory) if f.endswith('.csv') and f.startswith('2018')]\n",
    "\n",
    "    # Parcourir chaque fichier CSV\n",
    "    for csv_file in csv_files:\n",
    "        file_path = os.path.join(directory, csv_file)\n",
    "        \n",
    "        # Lire le fichier CSV\n",
    "        df = pd.read_csv(file_path)\n",
    "        derniere_valeur = df['Cycle_Index'].iloc[-1]\n",
    "\n",
    "        # Supprimer les lignes où Cycle_Index est égal à 0\n",
    "        df = df[df['Cycle_Index'] != derniere_valeur]\n",
    "        \n",
    "        # Enregistrer le fichier CSV modifié (remplace le fichier original)\n",
    "        df.to_csv(file_path, index=False)\n",
    "        print(f\"lignes filtrées dans : {csv_file}\")\n",
    "\n",
    "# Répertoire contenant les fichiers CSV\n",
    "directory = r'C:\\Users\\pc\\Desktop\\data\\all batchs'  # Remplacez par votre chemin\n",
    "# Appel de la fonction\n",
    "remove_rows(directory)\n"
   ]
  },
  {
   "cell_type": "markdown",
   "metadata": {},
   "source": [
    "Traitement des exeption restante"
   ]
  },
  {
   "cell_type": "code",
   "execution_count": 31,
   "metadata": {},
   "outputs": [],
   "source": [
    "'''\n",
    "df = pd.read_csv('C:\\\\Users\\\\pc\\\\Desktop\\\\data\\\\all batchs\\\\2017-05-12_4C-80per_4C_CH6.csv')\n",
    "df = df[(df['Cycle_Index'] != 1711.0) & (df['Cycle_Index'] != 1712.0)]\n",
    "df.to_csv(file_path, index=False)'''\n"
   ]
  },
  {
   "cell_type": "code",
   "execution_count": 15,
   "metadata": {},
   "outputs": [],
   "source": [
    "'''import os\n",
    "import pandas as pd\n",
    "\n",
    "# Chemin vers le répertoire contenant les fichiers CSV\n",
    "directory = r'C:\\\\Users\\\\pc\\\\Desktop\\\\data\\\\all batchs'\n",
    "\n",
    "# Lister tous les fichiers CSV dans le répertoire\n",
    "csv_files = [f for f in os.listdir(directory) if f.endswith('.csv')]'''\n"
   ]
  },
  {
   "cell_type": "code",
   "execution_count": 8,
   "metadata": {},
   "outputs": [],
   "source": [
    "'''\n",
    "# Ouvrir un fichier texte pour écrire les résultats\n",
    "with open('output_data_types.txt', 'w') as f:\n",
    "    for file in csv_files:\n",
    "        file_path = os.path.join(directory, file)\n",
    "        f.write(f\"\\n\\nFichier: {file}\\n\")\n",
    "        \n",
    "        # Charger le fichier CSV dans un DataFrame Pandas\n",
    "        df = pd.read_csv(file_path)\n",
    "        \n",
    "        \n",
    "        # Écrire les types de colonnes dans le fichier texte\n",
    "        f.write(\"Types de données :\\n\")\n",
    "        f.write(df.dtypes.to_string())\n",
    "        f.write(\"\\n\\n\")\n",
    "\n",
    "        # Vérifier s'il y a des valeurs manquantes dans chaque colonne\n",
    "        missing_values = df.isnull().sum()\n",
    "        missing_values_columns = missing_values[missing_values > 0]\n",
    "\n",
    "        # Écrire les colonnes avec des valeurs manquantes dans le fichier texte\n",
    "        if not missing_values_columns.empty:\n",
    "            f.write(\"Colonnes avec des valeurs manquantes :\\n\")\n",
    "            f.write(missing_values_columns.to_string())\n",
    "        else:\n",
    "            f.write(\"Aucune valeur manquante dans les colonnes.\\n\")'''"
   ]
  },
  {
   "cell_type": "code",
   "execution_count": 9,
   "metadata": {},
   "outputs": [],
   "source": [
    "'''#remplacer les valeurs manquantes\n",
    "for csv_file in csv_files:\n",
    "    # Construire le chemin complet du fichier\n",
    "    file_path = os.path.join(directory, csv_file)\n",
    "    \n",
    "    # Lire le fichier CSV\n",
    "    df = pd.read_csv(file_path)\n",
    "    # Remplir les valeurs manquantes\n",
    "    df=df.bfill()\n",
    "    df.to_csv(file_path, index=False)\n",
    "       \n",
    "'''"
   ]
  },
  {
   "cell_type": "code",
   "execution_count": 4,
   "metadata": {},
   "outputs": [
    {
     "name": "stdout",
     "output_type": "stream",
     "text": [
      "Rapport des outliers pour 2017-05-12_3_6C-80per_3_6C_CH1.csv généré dans C:\\\\Users\\\\pc\\\\Desktop\\\\data\\\\all batchs\\2017-05-12_3_6C-80per_3_6C_CH1_outliers.txt.\n",
      "Rapport des outliers pour 2017-05-12_3_6C-80per_3_6C_CH2.csv généré dans C:\\\\Users\\\\pc\\\\Desktop\\\\data\\\\all batchs\\2017-05-12_3_6C-80per_3_6C_CH2_outliers.txt.\n",
      "Rapport des outliers pour 2017-05-12_3_6C-80per_3_6C_CH3.csv généré dans C:\\\\Users\\\\pc\\\\Desktop\\\\data\\\\all batchs\\2017-05-12_3_6C-80per_3_6C_CH3_outliers.txt.\n",
      "Rapport des outliers pour 2017-05-12_4C-80per_4C_CH5.csv généré dans C:\\\\Users\\\\pc\\\\Desktop\\\\data\\\\all batchs\\2017-05-12_4C-80per_4C_CH5_outliers.txt.\n",
      "Rapport des outliers pour 2017-05-12_4C-80per_4C_CH6.csv généré dans C:\\\\Users\\\\pc\\\\Desktop\\\\data\\\\all batchs\\2017-05-12_4C-80per_4C_CH6_outliers.txt.\n",
      "Rapport des outliers pour 2017-05-12_4_4C-80per_4_4C_CH7.csv généré dans C:\\\\Users\\\\pc\\\\Desktop\\\\data\\\\all batchs\\2017-05-12_4_4C-80per_4_4C_CH7_outliers.txt.\n",
      "Rapport des outliers pour 2017-05-12_4_8C-80per_4_8C_CH10.csv généré dans C:\\\\Users\\\\pc\\\\Desktop\\\\data\\\\all batchs\\2017-05-12_4_8C-80per_4_8C_CH10_outliers.txt.\n",
      "Rapport des outliers pour 2017-05-12_4_8C-80per_4_8C_CH9.csv généré dans C:\\\\Users\\\\pc\\\\Desktop\\\\data\\\\all batchs\\2017-05-12_4_8C-80per_4_8C_CH9_outliers.txt.\n",
      "Rapport des outliers pour 2017-05-12_5_4C-80per_5_4C_CH11.csv généré dans C:\\\\Users\\\\pc\\\\Desktop\\\\data\\\\all batchs\\2017-05-12_5_4C-80per_5_4C_CH11_outliers.txt.\n",
      "Rapport des outliers pour 2017-05-12_5_4C-80per_5_4C_CH12.csv généré dans C:\\\\Users\\\\pc\\\\Desktop\\\\data\\\\all batchs\\2017-05-12_5_4C-80per_5_4C_CH12_outliers.txt.\n",
      "Rapport des outliers pour 2017-06-30_4_8C-80per_4_8C_CH4.csv généré dans C:\\\\Users\\\\pc\\\\Desktop\\\\data\\\\all batchs\\2017-06-30_4_8C-80per_4_8C_CH4_outliers.txt.\n",
      "Rapport des outliers pour 2017-06-30_4_8C-80per_4_8C_CH7.csv généré dans C:\\\\Users\\\\pc\\\\Desktop\\\\data\\\\all batchs\\2017-06-30_4_8C-80per_4_8C_CH7_outliers.txt.\n",
      "Rapport des outliers pour 2017-06-30_4_8C-80per_4_8C_CH8.csv généré dans C:\\\\Users\\\\pc\\\\Desktop\\\\data\\\\all batchs\\2017-06-30_4_8C-80per_4_8C_CH8_outliers.txt.\n",
      "Rapport des outliers pour 2018-04-12_4_8C_80per_4_8C_newstructure_CH1.csv généré dans C:\\\\Users\\\\pc\\\\Desktop\\\\data\\\\all batchs\\2018-04-12_4_8C_80per_4_8C_newstructure_CH1_outliers.txt.\n",
      "Rapport des outliers pour 2018-04-12_4_8C_80per_4_8C_newstructure_CH17.csv généré dans C:\\\\Users\\\\pc\\\\Desktop\\\\data\\\\all batchs\\2018-04-12_4_8C_80per_4_8C_newstructure_CH17_outliers.txt.\n",
      "Rapport des outliers pour 2018-04-12_4_8C_80per_4_8C_newstructure_CH25.csv généré dans C:\\\\Users\\\\pc\\\\Desktop\\\\data\\\\all batchs\\2018-04-12_4_8C_80per_4_8C_newstructure_CH25_outliers.txt.\n",
      "Rapport des outliers pour 2018-04-12_4_8C_80per_4_8C_newstructure_CH9.csv généré dans C:\\\\Users\\\\pc\\\\Desktop\\\\data\\\\all batchs\\2018-04-12_4_8C_80per_4_8C_newstructure_CH9_outliers.txt.\n"
     ]
    }
   ],
   "source": [
    "'''\n",
    "\n",
    "for csv_file in csv_files:\n",
    "    file_path = os.path.join(directory, csv_file)\n",
    "    \n",
    "    # Vérifie si le fichier existe\n",
    "    if not os.path.isfile(file_path):\n",
    "        print(f\"Le fichier {file_path} n'existe pas.\")\n",
    "        continue\n",
    "    \n",
    "    # Lire le fichier CSV\n",
    "    try:\n",
    "        df = pd.read_csv(file_path)\n",
    "    except Exception as e:\n",
    "        print(f\"Erreur lors de la lecture du fichier {file_path}: {e}\")\n",
    "        continue\n",
    "    \n",
    "    # Détection des outliers\n",
    "    outlier_report = []\n",
    "    \n",
    "    for col in df.select_dtypes(include=['float64', 'int64']).columns:\n",
    "        Q1 = df[col].quantile(0.25)\n",
    "        Q3 = df[col].quantile(0.75)\n",
    "        IQR = Q3 - Q1\n",
    "\n",
    "        lower_bound = Q1 - 1.5 * IQR\n",
    "        upper_bound = Q3 + 1.5 * IQR\n",
    "\n",
    "        outliers = df[(df[col] < lower_bound) | (df[col] > upper_bound)]\n",
    "        if not outliers.empty:\n",
    "            outlier_report.append(f\"Colonne '{col}':\")\n",
    "            outlier_report.append(f\"Index des lignes avec outliers : {list(outliers.index)}\")\n",
    "            outlier_report.append(\"\")  # Ligne vide pour séparer les colonnes\n",
    "    \n",
    "    # Si des outliers sont trouvés, enregistrer dans un fichier à part\n",
    "    if outlier_report:\n",
    "        output_file = os.path.join(directory, f\"{os.path.splitext(csv_file)[0]}_outliers.txt\")\n",
    "        try:\n",
    "            with open(output_file, 'w') as f_out:\n",
    "                f_out.write(f\"Fichier: {csv_file}\\n\")\n",
    "                f_out.write(\"\\n\".join(outlier_report))\n",
    "            print(f\"Rapport des outliers pour {csv_file} généré dans {output_file}.\")\n",
    "        except Exception as e:\n",
    "            print(f\"Erreur lors de l'écriture du fichier {output_file}: {e}\")\n",
    "    else:\n",
    "        print(f\"Aucun outlier détecté dans le fichier {csv_file}.\")\n",
    "'''"
   ]
  }
 ],
 "metadata": {
  "kernelspec": {
   "display_name": "base",
   "language": "python",
   "name": "python3"
  },
  "language_info": {
   "codemirror_mode": {
    "name": "ipython",
    "version": 3
   },
   "file_extension": ".py",
   "mimetype": "text/x-python",
   "name": "python",
   "nbconvert_exporter": "python",
   "pygments_lexer": "ipython3",
   "version": "3.12.5"
  }
 },
 "nbformat": 4,
 "nbformat_minor": 2
}
