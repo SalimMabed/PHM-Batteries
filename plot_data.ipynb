{
 "cells": [
  {
   "cell_type": "code",
   "execution_count": null,
   "metadata": {},
   "outputs": [],
   "source": [
    "import os\n",
    "import pandas as pd\n",
    "import matplotlib.pyplot as plt\n",
    "\n",
    "def plot_csv_files_separately(directory):\n",
    "    # Lister tous les fichiers CSV dans le répertoire donné\n",
    "    csv_files = [f for f in os.listdir(directory) if f.endswith('.csv')]\n",
    "\n",
    "    # Créer une figure pour chaque fichier CSV\n",
    "    num_files = len(csv_files)\n",
    "    fig, axes = plt.subplots(num_files, 1, figsize=(10, 6*num_files))\n",
    "\n",
    "    # Lire et tracer chaque fichier CSV dans une figure séparée\n",
    "    for i, csv_file in enumerate(csv_files):\n",
    "        file_path = os.path.join(directory, csv_file)\n",
    "        df = pd.read_csv(file_path)\n",
    "\n",
    "        ax = axes[i] if num_files > 1 else axes  # Gestion des sous-graphiques\n",
    "        ax.plot(df['Cycle_Index'], df['Discharge_Capacity'], label=csv_file)\n",
    "        ax.set_xlabel('Cycle Index')\n",
    "        ax.set_ylabel('Discharge Capacity')\n",
    "        ax.set_title(f'Discharge Capacity vs Cycle Index for {csv_file}')\n",
    "        ax.legend()\n",
    "        \n",
    "\n",
    "    plt.tight_layout()  # Ajustement automatique de l'espacement entre les sous-graphiques\n",
    "    plt.show()\n",
    "\n"
   ]
  },
  {
   "cell_type": "code",
   "execution_count": null,
   "metadata": {},
   "outputs": [],
   "source": [
    "\n",
    "# Exemple d'utilisation\n",
    "directory = r'C:\\Users\\pc\\Desktop\\data\\batch 1'  # Utilisation de r pour les chemins Windows\n",
    "plot_csv_files(directory)"
   ]
  }
 ],
 "metadata": {
  "kernelspec": {
   "display_name": "base",
   "language": "python",
   "name": "python3"
  },
  "language_info": {
   "name": "python",
   "version": "3.11.5"
  }
 },
 "nbformat": 4,
 "nbformat_minor": 2
}
